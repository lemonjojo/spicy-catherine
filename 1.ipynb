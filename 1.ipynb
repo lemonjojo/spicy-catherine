{
 "cells": [
  {
   "cell_type": "code",
   "execution_count": 1,
   "metadata": {},
   "outputs": [],
   "source": [
    "import pandas as pd"
   ]
  },
  {
   "cell_type": "code",
   "execution_count": 2,
   "metadata": {},
   "outputs": [],
   "source": [
    "import numpy as np"
   ]
  },
  {
   "cell_type": "code",
   "execution_count": 3,
   "metadata": {},
   "outputs": [],
   "source": [
    "import matplotlib.pyplot as plt"
   ]
  },
  {
   "cell_type": "code",
   "execution_count": 4,
   "metadata": {},
   "outputs": [],
   "source": [
    "df_all_cities = pd.DataFrame()"
   ]
  },
  {
   "cell_type": "code",
   "execution_count": 5,
   "metadata": {},
   "outputs": [],
   "source": [
    "out_columns = ['year','month','day','hour','season','PM_US Post','DEWP','HUMI','PRES','TEMP','cbwd','Iws','precipitation','Iprec']"
   ]
  },
  {
   "cell_type": "code",
   "execution_count": 6,
   "metadata": {},
   "outputs": [],
   "source": [
    "file_path = r'C:\\Users\\janzh\\Desktop\\PM25'"
   ]
  },
  {
   "cell_type": "code",
   "execution_count": 7,
   "metadata": {},
   "outputs": [],
   "source": [
    "Beijing = file_path + r'\\Beijing.csv'"
   ]
  },
  {
   "cell_type": "code",
   "execution_count": 8,
   "metadata": {},
   "outputs": [],
   "source": [
    "Shanghai =file_path + r'\\Shanghai.csv'"
   ]
  },
  {
   "cell_type": "code",
   "execution_count": 9,
   "metadata": {},
   "outputs": [],
   "source": [
    "Guangzhou = file_path + r'\\Guangzhou.csv'"
   ]
  },
  {
   "cell_type": "code",
   "execution_count": 10,
   "metadata": {},
   "outputs": [],
   "source": [
    "Chengdu = file_path + r'\\Chengdu.csv'"
   ]
  },
  {
   "cell_type": "code",
   "execution_count": 11,
   "metadata": {},
   "outputs": [],
   "source": [
    "Shenyang = file_path + r'\\Shenyang.csv'"
   ]
  },
  {
   "cell_type": "code",
   "execution_count": 12,
   "metadata": {},
   "outputs": [],
   "source": [
    "file_names = [Beijing,Shanghai,Guangzhou,Chengdu,Shenyang]"
   ]
  },
  {
   "cell_type": "code",
   "execution_count": 13,
   "metadata": {},
   "outputs": [],
   "source": [
    "for inx,val in enumerate(file_names): #用for循环，将df_all_cities填充各个子df\n",
    "    df = pd.read_csv(val)\n",
    "    f_name = val[len(file_path)+1:] \n",
    "    df = df[out_columns]\n",
    "    df['city'] = f_name.split('.')[0] #增加一列‘city’\n",
    "    df['season'] = df['season'].map({1:'Spring',2:'Summer',3:'Autumn',4:'Winter'}) \n",
    "    df_all_cities = df_all_cities.append(df) "
   ]
  },
  {
   "cell_type": "code",
   "execution_count": 14,
   "metadata": {},
   "outputs": [],
   "source": [
    "df_all_cities.columns = [c.replace(' ','_') for c in df.columns]"
   ]
  },
  {
   "cell_type": "code",
   "execution_count": 15,
   "metadata": {},
   "outputs": [
    {
     "data": {
      "text/html": [
       "<div>\n",
       "<style scoped>\n",
       "    .dataframe tbody tr th:only-of-type {\n",
       "        vertical-align: middle;\n",
       "    }\n",
       "\n",
       "    .dataframe tbody tr th {\n",
       "        vertical-align: top;\n",
       "    }\n",
       "\n",
       "    .dataframe thead th {\n",
       "        text-align: right;\n",
       "    }\n",
       "</style>\n",
       "<table border=\"1\" class=\"dataframe\">\n",
       "  <thead>\n",
       "    <tr style=\"text-align: right;\">\n",
       "      <th></th>\n",
       "      <th>year</th>\n",
       "      <th>month</th>\n",
       "      <th>day</th>\n",
       "      <th>hour</th>\n",
       "      <th>season</th>\n",
       "      <th>PM_US_Post</th>\n",
       "      <th>DEWP</th>\n",
       "      <th>HUMI</th>\n",
       "      <th>PRES</th>\n",
       "      <th>TEMP</th>\n",
       "      <th>cbwd</th>\n",
       "      <th>Iws</th>\n",
       "      <th>precipitation</th>\n",
       "      <th>Iprec</th>\n",
       "      <th>city</th>\n",
       "    </tr>\n",
       "  </thead>\n",
       "  <tbody>\n",
       "    <tr>\n",
       "      <th>0</th>\n",
       "      <td>2010</td>\n",
       "      <td>1</td>\n",
       "      <td>1</td>\n",
       "      <td>0</td>\n",
       "      <td>Winter</td>\n",
       "      <td>NaN</td>\n",
       "      <td>-21.0</td>\n",
       "      <td>43.0</td>\n",
       "      <td>1021.0</td>\n",
       "      <td>-11.0</td>\n",
       "      <td>NW</td>\n",
       "      <td>1.79</td>\n",
       "      <td>0.0</td>\n",
       "      <td>0.0</td>\n",
       "      <td>Beijing</td>\n",
       "    </tr>\n",
       "    <tr>\n",
       "      <th>1</th>\n",
       "      <td>2010</td>\n",
       "      <td>1</td>\n",
       "      <td>1</td>\n",
       "      <td>1</td>\n",
       "      <td>Winter</td>\n",
       "      <td>NaN</td>\n",
       "      <td>-21.0</td>\n",
       "      <td>47.0</td>\n",
       "      <td>1020.0</td>\n",
       "      <td>-12.0</td>\n",
       "      <td>NW</td>\n",
       "      <td>4.92</td>\n",
       "      <td>0.0</td>\n",
       "      <td>0.0</td>\n",
       "      <td>Beijing</td>\n",
       "    </tr>\n",
       "    <tr>\n",
       "      <th>2</th>\n",
       "      <td>2010</td>\n",
       "      <td>1</td>\n",
       "      <td>1</td>\n",
       "      <td>2</td>\n",
       "      <td>Winter</td>\n",
       "      <td>NaN</td>\n",
       "      <td>-21.0</td>\n",
       "      <td>43.0</td>\n",
       "      <td>1019.0</td>\n",
       "      <td>-11.0</td>\n",
       "      <td>NW</td>\n",
       "      <td>6.71</td>\n",
       "      <td>0.0</td>\n",
       "      <td>0.0</td>\n",
       "      <td>Beijing</td>\n",
       "    </tr>\n",
       "    <tr>\n",
       "      <th>3</th>\n",
       "      <td>2010</td>\n",
       "      <td>1</td>\n",
       "      <td>1</td>\n",
       "      <td>3</td>\n",
       "      <td>Winter</td>\n",
       "      <td>NaN</td>\n",
       "      <td>-21.0</td>\n",
       "      <td>55.0</td>\n",
       "      <td>1019.0</td>\n",
       "      <td>-14.0</td>\n",
       "      <td>NW</td>\n",
       "      <td>9.84</td>\n",
       "      <td>0.0</td>\n",
       "      <td>0.0</td>\n",
       "      <td>Beijing</td>\n",
       "    </tr>\n",
       "    <tr>\n",
       "      <th>4</th>\n",
       "      <td>2010</td>\n",
       "      <td>1</td>\n",
       "      <td>1</td>\n",
       "      <td>4</td>\n",
       "      <td>Winter</td>\n",
       "      <td>NaN</td>\n",
       "      <td>-20.0</td>\n",
       "      <td>51.0</td>\n",
       "      <td>1018.0</td>\n",
       "      <td>-12.0</td>\n",
       "      <td>NW</td>\n",
       "      <td>12.97</td>\n",
       "      <td>0.0</td>\n",
       "      <td>0.0</td>\n",
       "      <td>Beijing</td>\n",
       "    </tr>\n",
       "  </tbody>\n",
       "</table>\n",
       "</div>"
      ],
      "text/plain": [
       "   year  month  day  hour  season  PM_US_Post  DEWP  HUMI    PRES  TEMP cbwd  \\\n",
       "0  2010      1    1     0  Winter         NaN -21.0  43.0  1021.0 -11.0   NW   \n",
       "1  2010      1    1     1  Winter         NaN -21.0  47.0  1020.0 -12.0   NW   \n",
       "2  2010      1    1     2  Winter         NaN -21.0  43.0  1019.0 -11.0   NW   \n",
       "3  2010      1    1     3  Winter         NaN -21.0  55.0  1019.0 -14.0   NW   \n",
       "4  2010      1    1     4  Winter         NaN -20.0  51.0  1018.0 -12.0   NW   \n",
       "\n",
       "     Iws  precipitation  Iprec     city  \n",
       "0   1.79            0.0    0.0  Beijing  \n",
       "1   4.92            0.0    0.0  Beijing  \n",
       "2   6.71            0.0    0.0  Beijing  \n",
       "3   9.84            0.0    0.0  Beijing  \n",
       "4  12.97            0.0    0.0  Beijing  "
      ]
     },
     "execution_count": 15,
     "metadata": {},
     "output_type": "execute_result"
    }
   ],
   "source": [
    "df_all_cities.head()"
   ]
  },
  {
   "cell_type": "code",
   "execution_count": 16,
   "metadata": {
    "scrolled": true
   },
   "outputs": [
    {
     "data": {
      "text/html": [
       "<div>\n",
       "<style scoped>\n",
       "    .dataframe tbody tr th:only-of-type {\n",
       "        vertical-align: middle;\n",
       "    }\n",
       "\n",
       "    .dataframe tbody tr th {\n",
       "        vertical-align: top;\n",
       "    }\n",
       "\n",
       "    .dataframe thead th {\n",
       "        text-align: right;\n",
       "    }\n",
       "</style>\n",
       "<table border=\"1\" class=\"dataframe\">\n",
       "  <thead>\n",
       "    <tr style=\"text-align: right;\">\n",
       "      <th></th>\n",
       "      <th>year</th>\n",
       "      <th>month</th>\n",
       "      <th>day</th>\n",
       "      <th>hour</th>\n",
       "      <th>PM_US_Post</th>\n",
       "      <th>DEWP</th>\n",
       "      <th>HUMI</th>\n",
       "      <th>PRES</th>\n",
       "      <th>TEMP</th>\n",
       "      <th>Iws</th>\n",
       "      <th>precipitation</th>\n",
       "      <th>Iprec</th>\n",
       "    </tr>\n",
       "  </thead>\n",
       "  <tbody>\n",
       "    <tr>\n",
       "      <th>count</th>\n",
       "      <td>262920.000000</td>\n",
       "      <td>262920.000000</td>\n",
       "      <td>262920.000000</td>\n",
       "      <td>262920.0000</td>\n",
       "      <td>167358.000000</td>\n",
       "      <td>261680.000000</td>\n",
       "      <td>261352.000000</td>\n",
       "      <td>261339.000000</td>\n",
       "      <td>261682.000000</td>\n",
       "      <td>261677.000000</td>\n",
       "      <td>242708.000000</td>\n",
       "      <td>242708.000000</td>\n",
       "    </tr>\n",
       "    <tr>\n",
       "      <th>mean</th>\n",
       "      <td>2012.499772</td>\n",
       "      <td>6.523962</td>\n",
       "      <td>15.726609</td>\n",
       "      <td>11.5000</td>\n",
       "      <td>73.683929</td>\n",
       "      <td>8.606491</td>\n",
       "      <td>67.260260</td>\n",
       "      <td>1013.684178</td>\n",
       "      <td>15.657388</td>\n",
       "      <td>20.967698</td>\n",
       "      <td>4.250454</td>\n",
       "      <td>4.815252</td>\n",
       "    </tr>\n",
       "    <tr>\n",
       "      <th>std</th>\n",
       "      <td>1.707472</td>\n",
       "      <td>3.448426</td>\n",
       "      <td>8.798829</td>\n",
       "      <td>6.9222</td>\n",
       "      <td>68.540478</td>\n",
       "      <td>41.148388</td>\n",
       "      <td>45.018485</td>\n",
       "      <td>9.841144</td>\n",
       "      <td>11.341732</td>\n",
       "      <td>47.092075</td>\n",
       "      <td>2029.801803</td>\n",
       "      <td>2029.808291</td>\n",
       "    </tr>\n",
       "    <tr>\n",
       "      <th>min</th>\n",
       "      <td>2010.000000</td>\n",
       "      <td>1.000000</td>\n",
       "      <td>1.000000</td>\n",
       "      <td>0.0000</td>\n",
       "      <td>1.000000</td>\n",
       "      <td>-9999.000000</td>\n",
       "      <td>-9999.000000</td>\n",
       "      <td>975.000000</td>\n",
       "      <td>-28.000000</td>\n",
       "      <td>0.000000</td>\n",
       "      <td>0.000000</td>\n",
       "      <td>0.000000</td>\n",
       "    </tr>\n",
       "    <tr>\n",
       "      <th>25%</th>\n",
       "      <td>2011.000000</td>\n",
       "      <td>4.000000</td>\n",
       "      <td>8.000000</td>\n",
       "      <td>5.7500</td>\n",
       "      <td>29.000000</td>\n",
       "      <td>1.000000</td>\n",
       "      <td>53.000000</td>\n",
       "      <td>1006.000000</td>\n",
       "      <td>8.000000</td>\n",
       "      <td>2.000000</td>\n",
       "      <td>0.000000</td>\n",
       "      <td>0.000000</td>\n",
       "    </tr>\n",
       "    <tr>\n",
       "      <th>50%</th>\n",
       "      <td>2012.000000</td>\n",
       "      <td>7.000000</td>\n",
       "      <td>16.000000</td>\n",
       "      <td>11.5000</td>\n",
       "      <td>54.000000</td>\n",
       "      <td>11.200000</td>\n",
       "      <td>71.270000</td>\n",
       "      <td>1013.000000</td>\n",
       "      <td>18.000000</td>\n",
       "      <td>5.000000</td>\n",
       "      <td>0.000000</td>\n",
       "      <td>0.000000</td>\n",
       "    </tr>\n",
       "    <tr>\n",
       "      <th>75%</th>\n",
       "      <td>2014.000000</td>\n",
       "      <td>10.000000</td>\n",
       "      <td>23.000000</td>\n",
       "      <td>17.2500</td>\n",
       "      <td>94.000000</td>\n",
       "      <td>19.000000</td>\n",
       "      <td>86.000000</td>\n",
       "      <td>1021.000000</td>\n",
       "      <td>24.400000</td>\n",
       "      <td>18.000000</td>\n",
       "      <td>0.000000</td>\n",
       "      <td>0.000000</td>\n",
       "    </tr>\n",
       "    <tr>\n",
       "      <th>max</th>\n",
       "      <td>2015.000000</td>\n",
       "      <td>12.000000</td>\n",
       "      <td>31.000000</td>\n",
       "      <td>23.0000</td>\n",
       "      <td>994.000000</td>\n",
       "      <td>28.000000</td>\n",
       "      <td>100.000000</td>\n",
       "      <td>1046.000000</td>\n",
       "      <td>42.000000</td>\n",
       "      <td>1110.000000</td>\n",
       "      <td>999990.000000</td>\n",
       "      <td>999990.000000</td>\n",
       "    </tr>\n",
       "  </tbody>\n",
       "</table>\n",
       "</div>"
      ],
      "text/plain": [
       "                year          month            day         hour  \\\n",
       "count  262920.000000  262920.000000  262920.000000  262920.0000   \n",
       "mean     2012.499772       6.523962      15.726609      11.5000   \n",
       "std         1.707472       3.448426       8.798829       6.9222   \n",
       "min      2010.000000       1.000000       1.000000       0.0000   \n",
       "25%      2011.000000       4.000000       8.000000       5.7500   \n",
       "50%      2012.000000       7.000000      16.000000      11.5000   \n",
       "75%      2014.000000      10.000000      23.000000      17.2500   \n",
       "max      2015.000000      12.000000      31.000000      23.0000   \n",
       "\n",
       "          PM_US_Post           DEWP           HUMI           PRES  \\\n",
       "count  167358.000000  261680.000000  261352.000000  261339.000000   \n",
       "mean       73.683929       8.606491      67.260260    1013.684178   \n",
       "std        68.540478      41.148388      45.018485       9.841144   \n",
       "min         1.000000   -9999.000000   -9999.000000     975.000000   \n",
       "25%        29.000000       1.000000      53.000000    1006.000000   \n",
       "50%        54.000000      11.200000      71.270000    1013.000000   \n",
       "75%        94.000000      19.000000      86.000000    1021.000000   \n",
       "max       994.000000      28.000000     100.000000    1046.000000   \n",
       "\n",
       "                TEMP            Iws  precipitation          Iprec  \n",
       "count  261682.000000  261677.000000  242708.000000  242708.000000  \n",
       "mean       15.657388      20.967698       4.250454       4.815252  \n",
       "std        11.341732      47.092075    2029.801803    2029.808291  \n",
       "min       -28.000000       0.000000       0.000000       0.000000  \n",
       "25%         8.000000       2.000000       0.000000       0.000000  \n",
       "50%        18.000000       5.000000       0.000000       0.000000  \n",
       "75%        24.400000      18.000000       0.000000       0.000000  \n",
       "max        42.000000    1110.000000  999990.000000  999990.000000  "
      ]
     },
     "execution_count": 16,
     "metadata": {},
     "output_type": "execute_result"
    }
   ],
   "source": [
    "df_all_cities.describe()"
   ]
  },
  {
   "cell_type": "code",
   "execution_count": 17,
   "metadata": {},
   "outputs": [],
   "source": [
    "temp_list = df_all_cities[df_all_cities.HUMI < 0].index.tolist()"
   ]
  },
  {
   "cell_type": "code",
   "execution_count": 18,
   "metadata": {},
   "outputs": [],
   "source": [
    "df_all_cities.drop(axis=0,labels=temp_list,inplace= True)"
   ]
  },
  {
   "cell_type": "code",
   "execution_count": 19,
   "metadata": {},
   "outputs": [
    {
     "name": "stdout",
     "output_type": "stream",
     "text": [
      "<class 'pandas.core.frame.DataFrame'>\n",
      "Int64Index: 262900 entries, 0 to 52583\n",
      "Data columns (total 15 columns):\n",
      "year             262900 non-null int64\n",
      "month            262900 non-null int64\n",
      "day              262900 non-null int64\n",
      "hour             262900 non-null int64\n",
      "season           262899 non-null object\n",
      "PM_US_Post       167338 non-null float64\n",
      "DEWP             261660 non-null float64\n",
      "HUMI             261332 non-null float64\n",
      "PRES             261319 non-null float64\n",
      "TEMP             261662 non-null float64\n",
      "cbwd             261669 non-null object\n",
      "Iws              261657 non-null float64\n",
      "precipitation    242688 non-null float64\n",
      "Iprec            242688 non-null float64\n",
      "city             262900 non-null object\n",
      "dtypes: float64(8), int64(4), object(3)\n",
      "memory usage: 29.1+ MB\n"
     ]
    }
   ],
   "source": [
    "df_all_cities.info()"
   ]
  },
  {
   "cell_type": "code",
   "execution_count": 20,
   "metadata": {},
   "outputs": [
    {
     "data": {
      "text/html": [
       "<div>\n",
       "<style scoped>\n",
       "    .dataframe tbody tr th:only-of-type {\n",
       "        vertical-align: middle;\n",
       "    }\n",
       "\n",
       "    .dataframe tbody tr th {\n",
       "        vertical-align: top;\n",
       "    }\n",
       "\n",
       "    .dataframe thead th {\n",
       "        text-align: right;\n",
       "    }\n",
       "</style>\n",
       "<table border=\"1\" class=\"dataframe\">\n",
       "  <thead>\n",
       "    <tr style=\"text-align: right;\">\n",
       "      <th></th>\n",
       "      <th>year</th>\n",
       "      <th>month</th>\n",
       "      <th>day</th>\n",
       "      <th>hour</th>\n",
       "      <th>PM_US_Post</th>\n",
       "      <th>DEWP</th>\n",
       "      <th>HUMI</th>\n",
       "      <th>PRES</th>\n",
       "      <th>TEMP</th>\n",
       "      <th>Iws</th>\n",
       "      <th>precipitation</th>\n",
       "      <th>Iprec</th>\n",
       "    </tr>\n",
       "  </thead>\n",
       "  <tbody>\n",
       "    <tr>\n",
       "      <th>count</th>\n",
       "      <td>262900.000000</td>\n",
       "      <td>262900.000000</td>\n",
       "      <td>262900.000000</td>\n",
       "      <td>262900.000000</td>\n",
       "      <td>167338.000000</td>\n",
       "      <td>261660.000000</td>\n",
       "      <td>261332.000000</td>\n",
       "      <td>261319.000000</td>\n",
       "      <td>261662.000000</td>\n",
       "      <td>261657.000000</td>\n",
       "      <td>242688.000000</td>\n",
       "      <td>242688.000000</td>\n",
       "    </tr>\n",
       "    <tr>\n",
       "      <th>mean</th>\n",
       "      <td>2012.499734</td>\n",
       "      <td>6.523545</td>\n",
       "      <td>15.726740</td>\n",
       "      <td>11.500456</td>\n",
       "      <td>73.684172</td>\n",
       "      <td>8.760489</td>\n",
       "      <td>67.414289</td>\n",
       "      <td>1013.683474</td>\n",
       "      <td>15.658541</td>\n",
       "      <td>20.968318</td>\n",
       "      <td>4.250792</td>\n",
       "      <td>4.815550</td>\n",
       "    </tr>\n",
       "    <tr>\n",
       "      <th>std</th>\n",
       "      <td>1.707531</td>\n",
       "      <td>3.448227</td>\n",
       "      <td>8.799151</td>\n",
       "      <td>6.922258</td>\n",
       "      <td>68.543795</td>\n",
       "      <td>12.737207</td>\n",
       "      <td>21.812754</td>\n",
       "      <td>9.841048</td>\n",
       "      <td>11.341027</td>\n",
       "      <td>47.093503</td>\n",
       "      <td>2029.885440</td>\n",
       "      <td>2029.891928</td>\n",
       "    </tr>\n",
       "    <tr>\n",
       "      <th>min</th>\n",
       "      <td>2010.000000</td>\n",
       "      <td>1.000000</td>\n",
       "      <td>1.000000</td>\n",
       "      <td>0.000000</td>\n",
       "      <td>1.000000</td>\n",
       "      <td>-97.000000</td>\n",
       "      <td>0.000000</td>\n",
       "      <td>975.000000</td>\n",
       "      <td>-28.000000</td>\n",
       "      <td>0.000000</td>\n",
       "      <td>0.000000</td>\n",
       "      <td>0.000000</td>\n",
       "    </tr>\n",
       "    <tr>\n",
       "      <th>25%</th>\n",
       "      <td>2011.000000</td>\n",
       "      <td>4.000000</td>\n",
       "      <td>8.000000</td>\n",
       "      <td>6.000000</td>\n",
       "      <td>29.000000</td>\n",
       "      <td>1.000000</td>\n",
       "      <td>53.000000</td>\n",
       "      <td>1006.000000</td>\n",
       "      <td>8.000000</td>\n",
       "      <td>2.000000</td>\n",
       "      <td>0.000000</td>\n",
       "      <td>0.000000</td>\n",
       "    </tr>\n",
       "    <tr>\n",
       "      <th>50%</th>\n",
       "      <td>2012.000000</td>\n",
       "      <td>7.000000</td>\n",
       "      <td>16.000000</td>\n",
       "      <td>12.000000</td>\n",
       "      <td>54.000000</td>\n",
       "      <td>11.200000</td>\n",
       "      <td>71.270000</td>\n",
       "      <td>1013.000000</td>\n",
       "      <td>18.000000</td>\n",
       "      <td>5.000000</td>\n",
       "      <td>0.000000</td>\n",
       "      <td>0.000000</td>\n",
       "    </tr>\n",
       "    <tr>\n",
       "      <th>75%</th>\n",
       "      <td>2014.000000</td>\n",
       "      <td>10.000000</td>\n",
       "      <td>23.000000</td>\n",
       "      <td>18.000000</td>\n",
       "      <td>94.000000</td>\n",
       "      <td>19.000000</td>\n",
       "      <td>86.000000</td>\n",
       "      <td>1021.000000</td>\n",
       "      <td>24.400000</td>\n",
       "      <td>18.000000</td>\n",
       "      <td>0.000000</td>\n",
       "      <td>0.000000</td>\n",
       "    </tr>\n",
       "    <tr>\n",
       "      <th>max</th>\n",
       "      <td>2015.000000</td>\n",
       "      <td>12.000000</td>\n",
       "      <td>31.000000</td>\n",
       "      <td>23.000000</td>\n",
       "      <td>994.000000</td>\n",
       "      <td>28.000000</td>\n",
       "      <td>100.000000</td>\n",
       "      <td>1046.000000</td>\n",
       "      <td>42.000000</td>\n",
       "      <td>1110.000000</td>\n",
       "      <td>999990.000000</td>\n",
       "      <td>999990.000000</td>\n",
       "    </tr>\n",
       "  </tbody>\n",
       "</table>\n",
       "</div>"
      ],
      "text/plain": [
       "                year          month            day           hour  \\\n",
       "count  262900.000000  262900.000000  262900.000000  262900.000000   \n",
       "mean     2012.499734       6.523545      15.726740      11.500456   \n",
       "std         1.707531       3.448227       8.799151       6.922258   \n",
       "min      2010.000000       1.000000       1.000000       0.000000   \n",
       "25%      2011.000000       4.000000       8.000000       6.000000   \n",
       "50%      2012.000000       7.000000      16.000000      12.000000   \n",
       "75%      2014.000000      10.000000      23.000000      18.000000   \n",
       "max      2015.000000      12.000000      31.000000      23.000000   \n",
       "\n",
       "          PM_US_Post           DEWP           HUMI           PRES  \\\n",
       "count  167338.000000  261660.000000  261332.000000  261319.000000   \n",
       "mean       73.684172       8.760489      67.414289    1013.683474   \n",
       "std        68.543795      12.737207      21.812754       9.841048   \n",
       "min         1.000000     -97.000000       0.000000     975.000000   \n",
       "25%        29.000000       1.000000      53.000000    1006.000000   \n",
       "50%        54.000000      11.200000      71.270000    1013.000000   \n",
       "75%        94.000000      19.000000      86.000000    1021.000000   \n",
       "max       994.000000      28.000000     100.000000    1046.000000   \n",
       "\n",
       "                TEMP            Iws  precipitation          Iprec  \n",
       "count  261662.000000  261657.000000  242688.000000  242688.000000  \n",
       "mean       15.658541      20.968318       4.250792       4.815550  \n",
       "std        11.341027      47.093503    2029.885440    2029.891928  \n",
       "min       -28.000000       0.000000       0.000000       0.000000  \n",
       "25%         8.000000       2.000000       0.000000       0.000000  \n",
       "50%        18.000000       5.000000       0.000000       0.000000  \n",
       "75%        24.400000      18.000000       0.000000       0.000000  \n",
       "max        42.000000    1110.000000  999990.000000  999990.000000  "
      ]
     },
     "execution_count": 20,
     "metadata": {},
     "output_type": "execute_result"
    }
   ],
   "source": [
    "df_all_cities.describe()"
   ]
  },
  {
   "cell_type": "code",
   "execution_count": 21,
   "metadata": {},
   "outputs": [],
   "source": [
    "df_all_cities['PM_US_Post'].fillna(df_all_cities['PM_US_Post'].mean(),inplace=True)"
   ]
  },
  {
   "cell_type": "code",
   "execution_count": 22,
   "metadata": {},
   "outputs": [],
   "source": [
    "df_all_cities['HUMI'].fillna(df_all_cities['HUMI'].mean(),inplace=True)"
   ]
  },
  {
   "cell_type": "code",
   "execution_count": 23,
   "metadata": {},
   "outputs": [],
   "source": [
    "df_all_cities['TEMP'].fillna(df_all_cities['TEMP'].mean(),inplace=True)"
   ]
  },
  {
   "cell_type": "code",
   "execution_count": 24,
   "metadata": {},
   "outputs": [
    {
     "name": "stdout",
     "output_type": "stream",
     "text": [
      "<class 'pandas.core.frame.DataFrame'>\n",
      "Int64Index: 262900 entries, 0 to 52583\n",
      "Data columns (total 15 columns):\n",
      "year             262900 non-null int64\n",
      "month            262900 non-null int64\n",
      "day              262900 non-null int64\n",
      "hour             262900 non-null int64\n",
      "season           262899 non-null object\n",
      "PM_US_Post       262900 non-null float64\n",
      "DEWP             261660 non-null float64\n",
      "HUMI             262900 non-null float64\n",
      "PRES             261319 non-null float64\n",
      "TEMP             262900 non-null float64\n",
      "cbwd             261669 non-null object\n",
      "Iws              261657 non-null float64\n",
      "precipitation    242688 non-null float64\n",
      "Iprec            242688 non-null float64\n",
      "city             262900 non-null object\n",
      "dtypes: float64(8), int64(4), object(3)\n",
      "memory usage: 29.1+ MB\n"
     ]
    }
   ],
   "source": [
    "df_all_cities.info()"
   ]
  },
  {
   "cell_type": "code",
   "execution_count": 25,
   "metadata": {},
   "outputs": [
    {
     "data": {
      "text/plain": [
       "year                 0\n",
       "month                0\n",
       "day                  0\n",
       "hour                 0\n",
       "season               1\n",
       "PM_US_Post           0\n",
       "DEWP              1240\n",
       "HUMI                 0\n",
       "PRES              1581\n",
       "TEMP                 0\n",
       "cbwd              1231\n",
       "Iws               1243\n",
       "precipitation    20212\n",
       "Iprec            20212\n",
       "city                 0\n",
       "dtype: int64"
      ]
     },
     "execution_count": 25,
     "metadata": {},
     "output_type": "execute_result"
    }
   ],
   "source": [
    "df_all_cities.isnull().sum()"
   ]
  },
  {
   "cell_type": "code",
   "execution_count": 26,
   "metadata": {},
   "outputs": [],
   "source": [
    "import seaborn as sns"
   ]
  },
  {
   "cell_type": "code",
   "execution_count": 27,
   "metadata": {},
   "outputs": [],
   "source": [
    "df_PM25_month = df_all_cities.groupby('month',as_index=False).mean().sort_values(['PM_US_Post'],ascending=False).reset_index()"
   ]
  },
  {
   "cell_type": "code",
   "execution_count": 28,
   "metadata": {},
   "outputs": [],
   "source": [
    "df_PM25_season = df_all_cities.groupby('season',as_index=False).mean().sort_values(['PM_US_Post'],ascending=False).reset_index()"
   ]
  },
  {
   "cell_type": "code",
   "execution_count": 29,
   "metadata": {},
   "outputs": [],
   "source": [
    "def univariate_plot(data, key = '', color = ''):\n",
    "    \"\"\"\n",
    "    Plot average PM 2.5 readings, given a feature of interest\n",
    "    \"\"\"\n",
    "    \n",
    "    # Check if the key exists\n",
    "    if not key:\n",
    "        raise Exception(\"No key has been provided. Make sure you provide a variable on which to plot the data.\")\n",
    "    if key not in data.columns.values :\n",
    "        raise Exception(\"'{}' is not a feature of the dataframe. Did you spell something wrong?\".format(key))\n",
    "\n",
    "    # Create plot\n",
    "    plt.figure(figsize=(8,6))\n",
    "    data.groupby(key)['PM_US_Post'].mean().plot(kind = 'bar', color = color)\n",
    "    plt.ylabel('PM 2.5 (ug/m^3)')\n",
    "    plt.title('Average PM 2.5 Reading by {:s}'.format(key), fontsize =14)\n",
    "    plt.show()\n",
    "    return None"
   ]
  },
  {
   "cell_type": "code",
   "execution_count": 30,
   "metadata": {},
   "outputs": [
    {
     "data": {
      "image/png": "[encoded data removed]",
      "text/plain": [
       "<Figure size 576x432 with 1 Axes>"
      ]
     },
     "metadata": {
      "needs_background": "light"
     },
     "output_type": "display_data"
    },
    {
     "data": {
      "image/png": "[encoded data removed]",
      "text/plain": [
       "<Figure size 576x432 with 1 Axes>"
      ]
     },
     "metadata": {
      "needs_background": "light"
     },
     "output_type": "display_data"
    }
   ],
   "source": [
    "univariate_plot(df_all_cities, 'month', 'red')\n",
    "univariate_plot(df_all_cities, 'season', 'blue')"
   ]
  },
  {
   "cell_type": "code",
   "execution_count": 31,
   "metadata": {},
   "outputs": [
    {
     "data": {
      "text/plain": [
       "Text(0,0.5,'PM2.5 level')"
      ]
     },
     "execution_count": 31,
     "metadata": {},
     "output_type": "execute_result"
    },
    {
     "data": {
      "image/png": "[encoded data removed]",
      "text/plain": [
       "<Figure size 432x288 with 1 Axes>"
      ]
     },
     "metadata": {
      "needs_background": "light"
     },
     "output_type": "display_data"
    }
   ],
   "source": [
    "X1=df_all_cities['HUMI']\n",
    "X2=df_all_cities['TEMP']\n",
    "Y=df_all_cities['PM_US_Post']\n",
    "\n",
    "plt.scatter(X1,Y)\n",
    "plt.title('The relationship between PM2.5 level and humidity')\n",
    "plt.xlabel('Huminity')\n",
    "plt.ylabel('PM2.5 level')\n",
    "\n"
   ]
  },
  {
   "cell_type": "code",
   "execution_count": 32,
   "metadata": {},
   "outputs": [
    {
     "data": {
      "text/plain": [
       "Text(0,0.5,'PM2.5 level')"
      ]
     },
     "execution_count": 32,
     "metadata": {},
     "output_type": "execute_result"
    },
    {
     "data": {
      "image/png": "[encoded data removed]",
      "text/plain": [
       "<Figure size 432x288 with 1 Axes>"
      ]
     },
     "metadata": {
      "needs_background": "light"
     },
     "output_type": "display_data"
    }
   ],
   "source": [
    "plt.scatter(X2,Y,color='r')\n",
    "plt.title('The relationship between PM2.5 level and temperature')\n",
    "plt.xlabel('Temperature')\n",
    "plt.ylabel('PM2.5 level')"
   ]
  },
  {
   "cell_type": "code",
   "execution_count": 33,
   "metadata": {},
   "outputs": [
    {
     "data": {
      "text/plain": [
       "0.18334633188007254"
      ]
     },
     "execution_count": 33,
     "metadata": {},
     "output_type": "execute_result"
    }
   ],
   "source": [
    "df_all_cities['PRES'].skew()"
   ]
  },
  {
   "cell_type": "code",
   "execution_count": 34,
   "metadata": {},
   "outputs": [
    {
     "data": {
      "text/plain": [
       "-0.6247327010479493"
      ]
     },
     "execution_count": 34,
     "metadata": {},
     "output_type": "execute_result"
    }
   ],
   "source": [
    "df_all_cities['PRES'].kurt()"
   ]
  },
  {
   "cell_type": "code",
   "execution_count": 35,
   "metadata": {},
   "outputs": [],
   "source": [
    "pm = df_all_cities"
   ]
  },
  {
   "cell_type": "code",
   "execution_count": 36,
   "metadata": {},
   "outputs": [
    {
     "data": {
      "text/html": [
       "<div>\n",
       "<style scoped>\n",
       "    .dataframe tbody tr th:only-of-type {\n",
       "        vertical-align: middle;\n",
       "    }\n",
       "\n",
       "    .dataframe tbody tr th {\n",
       "        vertical-align: top;\n",
       "    }\n",
       "\n",
       "    .dataframe thead th {\n",
       "        text-align: right;\n",
       "    }\n",
       "</style>\n",
       "<table border=\"1\" class=\"dataframe\">\n",
       "  <thead>\n",
       "    <tr style=\"text-align: right;\">\n",
       "      <th></th>\n",
       "      <th>year</th>\n",
       "      <th>month</th>\n",
       "      <th>day</th>\n",
       "      <th>hour</th>\n",
       "      <th>season</th>\n",
       "      <th>PM_US_Post</th>\n",
       "      <th>DEWP</th>\n",
       "      <th>HUMI</th>\n",
       "      <th>PRES</th>\n",
       "      <th>TEMP</th>\n",
       "      <th>cbwd</th>\n",
       "      <th>Iws</th>\n",
       "      <th>precipitation</th>\n",
       "      <th>Iprec</th>\n",
       "      <th>city</th>\n",
       "    </tr>\n",
       "  </thead>\n",
       "  <tbody>\n",
       "    <tr>\n",
       "      <th>0</th>\n",
       "      <td>2010</td>\n",
       "      <td>1</td>\n",
       "      <td>1</td>\n",
       "      <td>0</td>\n",
       "      <td>Winter</td>\n",
       "      <td>73.684172</td>\n",
       "      <td>-21.0</td>\n",
       "      <td>43.0</td>\n",
       "      <td>1021.0</td>\n",
       "      <td>-11.0</td>\n",
       "      <td>NW</td>\n",
       "      <td>1.79</td>\n",
       "      <td>0.0</td>\n",
       "      <td>0.0</td>\n",
       "      <td>Beijing</td>\n",
       "    </tr>\n",
       "    <tr>\n",
       "      <th>1</th>\n",
       "      <td>2010</td>\n",
       "      <td>1</td>\n",
       "      <td>1</td>\n",
       "      <td>1</td>\n",
       "      <td>Winter</td>\n",
       "      <td>73.684172</td>\n",
       "      <td>-21.0</td>\n",
       "      <td>47.0</td>\n",
       "      <td>1020.0</td>\n",
       "      <td>-12.0</td>\n",
       "      <td>NW</td>\n",
       "      <td>4.92</td>\n",
       "      <td>0.0</td>\n",
       "      <td>0.0</td>\n",
       "      <td>Beijing</td>\n",
       "    </tr>\n",
       "    <tr>\n",
       "      <th>2</th>\n",
       "      <td>2010</td>\n",
       "      <td>1</td>\n",
       "      <td>1</td>\n",
       "      <td>2</td>\n",
       "      <td>Winter</td>\n",
       "      <td>73.684172</td>\n",
       "      <td>-21.0</td>\n",
       "      <td>43.0</td>\n",
       "      <td>1019.0</td>\n",
       "      <td>-11.0</td>\n",
       "      <td>NW</td>\n",
       "      <td>6.71</td>\n",
       "      <td>0.0</td>\n",
       "      <td>0.0</td>\n",
       "      <td>Beijing</td>\n",
       "    </tr>\n",
       "    <tr>\n",
       "      <th>3</th>\n",
       "      <td>2010</td>\n",
       "      <td>1</td>\n",
       "      <td>1</td>\n",
       "      <td>3</td>\n",
       "      <td>Winter</td>\n",
       "      <td>73.684172</td>\n",
       "      <td>-21.0</td>\n",
       "      <td>55.0</td>\n",
       "      <td>1019.0</td>\n",
       "      <td>-14.0</td>\n",
       "      <td>NW</td>\n",
       "      <td>9.84</td>\n",
       "      <td>0.0</td>\n",
       "      <td>0.0</td>\n",
       "      <td>Beijing</td>\n",
       "    </tr>\n",
       "    <tr>\n",
       "      <th>4</th>\n",
       "      <td>2010</td>\n",
       "      <td>1</td>\n",
       "      <td>1</td>\n",
       "      <td>4</td>\n",
       "      <td>Winter</td>\n",
       "      <td>73.684172</td>\n",
       "      <td>-20.0</td>\n",
       "      <td>51.0</td>\n",
       "      <td>1018.0</td>\n",
       "      <td>-12.0</td>\n",
       "      <td>NW</td>\n",
       "      <td>12.97</td>\n",
       "      <td>0.0</td>\n",
       "      <td>0.0</td>\n",
       "      <td>Beijing</td>\n",
       "    </tr>\n",
       "  </tbody>\n",
       "</table>\n",
       "</div>"
      ],
      "text/plain": [
       "   year  month  day  hour  season  PM_US_Post  DEWP  HUMI    PRES  TEMP cbwd  \\\n",
       "0  2010      1    1     0  Winter   73.684172 -21.0  43.0  1021.0 -11.0   NW   \n",
       "1  2010      1    1     1  Winter   73.684172 -21.0  47.0  1020.0 -12.0   NW   \n",
       "2  2010      1    1     2  Winter   73.684172 -21.0  43.0  1019.0 -11.0   NW   \n",
       "3  2010      1    1     3  Winter   73.684172 -21.0  55.0  1019.0 -14.0   NW   \n",
       "4  2010      1    1     4  Winter   73.684172 -20.0  51.0  1018.0 -12.0   NW   \n",
       "\n",
       "     Iws  precipitation  Iprec     city  \n",
       "0   1.79            0.0    0.0  Beijing  \n",
       "1   4.92            0.0    0.0  Beijing  \n",
       "2   6.71            0.0    0.0  Beijing  \n",
       "3   9.84            0.0    0.0  Beijing  \n",
       "4  12.97            0.0    0.0  Beijing  "
      ]
     },
     "execution_count": 36,
     "metadata": {},
     "output_type": "execute_result"
    }
   ],
   "source": [
    "pm.head()"
   ]
  },
  {
   "cell_type": "code",
   "execution_count": 37,
   "metadata": {},
   "outputs": [],
   "source": [
    "spring=pm[(pm[\"season\"]=='Spring')]"
   ]
  },
  {
   "cell_type": "code",
   "execution_count": 38,
   "metadata": {},
   "outputs": [
    {
     "name": "stdout",
     "output_type": "stream",
     "text": [
      "<class 'pandas.core.frame.DataFrame'>\n",
      "Int64Index: 66240 entries, 1416 to 47447\n",
      "Data columns (total 15 columns):\n",
      "year             66240 non-null int64\n",
      "month            66240 non-null int64\n",
      "day              66240 non-null int64\n",
      "hour             66240 non-null int64\n",
      "season           66240 non-null object\n",
      "PM_US_Post       66240 non-null float64\n",
      "DEWP             65524 non-null float64\n",
      "HUMI             66240 non-null float64\n",
      "PRES             65527 non-null float64\n",
      "TEMP             66240 non-null float64\n",
      "cbwd             65527 non-null object\n",
      "Iws              65521 non-null float64\n",
      "precipitation    61209 non-null float64\n",
      "Iprec            61209 non-null float64\n",
      "city             66240 non-null object\n",
      "dtypes: float64(8), int64(4), object(3)\n",
      "memory usage: 7.3+ MB\n"
     ]
    }
   ],
   "source": [
    "spring.info()"
   ]
  },
  {
   "cell_type": "code",
   "execution_count": 39,
   "metadata": {},
   "outputs": [],
   "source": [
    "gp1=spring.groupby(['year','city'])['PM_US_Post']"
   ]
  },
  {
   "cell_type": "code",
   "execution_count": 40,
   "metadata": {},
   "outputs": [
    {
     "data": {
      "text/plain": [
       "year  city     \n",
       "2010  Beijing      2208\n",
       "      Chengdu      2208\n",
       "      Guangzhou    2208\n",
       "      Shanghai     2208\n",
       "      Shenyang     2208\n",
       "2011  Beijing      2208\n",
       "      Chengdu      2208\n",
       "      Guangzhou    2208\n",
       "      Shanghai     2208\n",
       "      Shenyang     2208\n",
       "2012  Beijing      2208\n",
       "      Chengdu      2208\n",
       "      Guangzhou    2208\n",
       "      Shanghai     2208\n",
       "      Shenyang     2208\n",
       "2013  Beijing      2208\n",
       "      Chengdu      2208\n",
       "      Guangzhou    2208\n",
       "      Shanghai     2208\n",
       "      Shenyang     2208\n",
       "2014  Beijing      2208\n",
       "      Chengdu      2208\n",
       "      Guangzhou    2208\n",
       "      Shanghai     2208\n",
       "      Shenyang     2208\n",
       "2015  Beijing      2208\n",
       "      Chengdu      2208\n",
       "      Guangzhou    2208\n",
       "      Shanghai     2208\n",
       "      Shenyang     2208\n",
       "Name: PM_US_Post, dtype: int64"
      ]
     },
     "execution_count": 40,
     "metadata": {},
     "output_type": "execute_result"
    }
   ],
   "source": [
    "gp1.size()"
   ]
  },
  {
   "cell_type": "code",
   "execution_count": 41,
   "metadata": {},
   "outputs": [
    {
     "data": {
      "image/png": "[encoded data removed]",
      "text/plain": [
       "<Figure size 432x288 with 1 Axes>"
      ]
     },
     "metadata": {
      "needs_background": "light"
     },
     "output_type": "display_data"
    }
   ],
   "source": [
    "gpa1=gp1.mean()\n",
    "gpa1=gpa1.unstack()\n",
    "gpa1.plot(kind='bar',figsize=(6,4))\n",
    "plt.title('Spring PM value')\n",
    "plt.xlabel('year')\n",
    "plt.ylabel('PM_US Post')\n",
    "plt.show()"
   ]
  },
  {
   "cell_type": "code",
   "execution_count": 42,
   "metadata": {},
   "outputs": [
    {
     "data": {
      "image/png": "[encoded data removed]",
      "text/plain": [
       "<Figure size 432x288 with 1 Axes>"
      ]
     },
     "metadata": {
      "needs_background": "light"
     },
     "output_type": "display_data"
    }
   ],
   "source": [
    "summer=pm[(pm[\"season\"]=='Summer')]\n",
    "gp2=summer.groupby(['year','city'])['PM_US_Post']\n",
    "gp2.size()\n",
    "gpa2=gp2.mean()\n",
    "gpa2=gpa2.unstack()\n",
    "gpa2.plot(kind='bar',figsize=(6,4))\n",
    "plt.title('Summer PM value')\n",
    "plt.xlabel('year')\n",
    "plt.ylabel('PM_US Post')\n",
    "plt.show()"
   ]
  },
  {
   "cell_type": "code",
   "execution_count": 43,
   "metadata": {},
   "outputs": [
    {
     "data": {
      "image/png": "[encoded data removed]",
      "text/plain": [
       "<Figure size 432x288 with 1 Axes>"
      ]
     },
     "metadata": {
      "needs_background": "light"
     },
     "output_type": "display_data"
    }
   ],
   "source": [
    "autumn=pm[(pm[\"season\"]=='Autumn')]\n",
    "gp3=autumn.groupby(['year','city'])['PM_US_Post']\n",
    "gp3.size()\n",
    "gpa3=gp3.mean()\n",
    "gpa3=gpa3.unstack()\n",
    "gpa3.plot(kind='bar',figsize=(6,4))\n",
    "plt.title('Autumn PM value')\n",
    "plt.xlabel('year')\n",
    "plt.ylabel('PM_US Post')\n",
    "plt.show()"
   ]
  },
  {
   "cell_type": "code",
   "execution_count": 44,
   "metadata": {},
   "outputs": [
    {
     "data": {
      "image/png": "[encoded data removed]",
      "text/plain": [
       "<Figure size 432x288 with 1 Axes>"
      ]
     },
     "metadata": {
      "needs_background": "light"
     },
     "output_type": "display_data"
    }
   ],
   "source": [
    "winter=pm[(pm[\"season\"]=='Winter')]\n",
    "gp4=winter.groupby(['year','city'])['PM_US_Post']\n",
    "gp4.size()\n",
    "gpa4=gp4.mean()\n",
    "gpa4=gpa4.unstack()\n",
    "gpa4.plot(kind='bar',figsize=(6,4))\n",
    "plt.title('Winter PM value')\n",
    "plt.xlabel('year')\n",
    "plt.ylabel('PM_US Post')\n",
    "plt.show()"
   ]
  },
  {
   "cell_type": "code",
   "execution_count": 45,
   "metadata": {},
   "outputs": [],
   "source": [
    "mypivot=pd.pivot_table(pm,index=['city'],values=['PM_US_Post'],columns=['cbwd'],aggfunc=[np.mean])\n"
   ]
  },
  {
   "cell_type": "code",
   "execution_count": 46,
   "metadata": {},
   "outputs": [
    {
     "data": {
      "text/html": [
       "<div>\n",
       "<style scoped>\n",
       "    .dataframe tbody tr th:only-of-type {\n",
       "        vertical-align: middle;\n",
       "    }\n",
       "\n",
       "    .dataframe tbody tr th {\n",
       "        vertical-align: top;\n",
       "    }\n",
       "\n",
       "    .dataframe thead tr th {\n",
       "        text-align: left;\n",
       "    }\n",
       "\n",
       "    .dataframe thead tr:last-of-type th {\n",
       "        text-align: right;\n",
       "    }\n",
       "</style>\n",
       "<table border=\"1\" class=\"dataframe\">\n",
       "  <thead>\n",
       "    <tr>\n",
       "      <th></th>\n",
       "      <th colspan=\"5\" halign=\"left\">mean</th>\n",
       "    </tr>\n",
       "    <tr>\n",
       "      <th></th>\n",
       "      <th colspan=\"5\" halign=\"left\">PM_US_Post</th>\n",
       "    </tr>\n",
       "    <tr>\n",
       "      <th>cbwd</th>\n",
       "      <th>NE</th>\n",
       "      <th>NW</th>\n",
       "      <th>SE</th>\n",
       "      <th>SW</th>\n",
       "      <th>cv</th>\n",
       "    </tr>\n",
       "    <tr>\n",
       "      <th>city</th>\n",
       "      <th></th>\n",
       "      <th></th>\n",
       "      <th></th>\n",
       "      <th></th>\n",
       "      <th></th>\n",
       "    </tr>\n",
       "  </thead>\n",
       "  <tbody>\n",
       "    <tr>\n",
       "      <th>Beijing</th>\n",
       "      <td>87.008492</td>\n",
       "      <td>64.125934</td>\n",
       "      <td>108.176435</td>\n",
       "      <td>NaN</td>\n",
       "      <td>123.362894</td>\n",
       "    </tr>\n",
       "    <tr>\n",
       "      <th>Chengdu</th>\n",
       "      <td>69.731847</td>\n",
       "      <td>77.952400</td>\n",
       "      <td>71.941039</td>\n",
       "      <td>74.927537</td>\n",
       "      <td>84.748852</td>\n",
       "    </tr>\n",
       "    <tr>\n",
       "      <th>Guangzhou</th>\n",
       "      <td>59.738423</td>\n",
       "      <td>62.681801</td>\n",
       "      <td>56.582022</td>\n",
       "      <td>53.895084</td>\n",
       "      <td>65.496957</td>\n",
       "    </tr>\n",
       "    <tr>\n",
       "      <th>Shanghai</th>\n",
       "      <td>53.828037</td>\n",
       "      <td>75.689555</td>\n",
       "      <td>53.732045</td>\n",
       "      <td>67.524889</td>\n",
       "      <td>73.396984</td>\n",
       "    </tr>\n",
       "    <tr>\n",
       "      <th>Shenyang</th>\n",
       "      <td>81.586752</td>\n",
       "      <td>65.586047</td>\n",
       "      <td>79.972043</td>\n",
       "      <td>70.436896</td>\n",
       "      <td>82.512009</td>\n",
       "    </tr>\n",
       "  </tbody>\n",
       "</table>\n",
       "</div>"
      ],
      "text/plain": [
       "                mean                                              \n",
       "          PM_US_Post                                              \n",
       "cbwd              NE         NW          SE         SW          cv\n",
       "city                                                              \n",
       "Beijing    87.008492  64.125934  108.176435        NaN  123.362894\n",
       "Chengdu    69.731847  77.952400   71.941039  74.927537   84.748852\n",
       "Guangzhou  59.738423  62.681801   56.582022  53.895084   65.496957\n",
       "Shanghai   53.828037  75.689555   53.732045  67.524889   73.396984\n",
       "Shenyang   81.586752  65.586047   79.972043  70.436896   82.512009"
      ]
     },
     "execution_count": 46,
     "metadata": {},
     "output_type": "execute_result"
    }
   ],
   "source": [
    "mypivot"
   ]
  },
  {
   "cell_type": "code",
   "execution_count": 47,
   "metadata": {},
   "outputs": [
    {
     "data": {
      "text/html": [
       "<div>\n",
       "<style scoped>\n",
       "    .dataframe tbody tr th:only-of-type {\n",
       "        vertical-align: middle;\n",
       "    }\n",
       "\n",
       "    .dataframe tbody tr th {\n",
       "        vertical-align: top;\n",
       "    }\n",
       "\n",
       "    .dataframe thead th {\n",
       "        text-align: right;\n",
       "    }\n",
       "</style>\n",
       "<table border=\"1\" class=\"dataframe\">\n",
       "  <thead>\n",
       "    <tr style=\"text-align: right;\">\n",
       "      <th></th>\n",
       "      <th>PM_US_Post</th>\n",
       "      <th>DEWP</th>\n",
       "      <th>HUMI</th>\n",
       "      <th>PRES</th>\n",
       "      <th>TEMP</th>\n",
       "      <th>Iws</th>\n",
       "      <th>precipitation</th>\n",
       "      <th>Iprec</th>\n",
       "    </tr>\n",
       "  </thead>\n",
       "  <tbody>\n",
       "    <tr>\n",
       "      <th>PM_US_Post</th>\n",
       "      <td>1.000000</td>\n",
       "      <td>-0.119579</td>\n",
       "      <td>0.112014</td>\n",
       "      <td>0.154958</td>\n",
       "      <td>-0.210618</td>\n",
       "      <td>-0.140736</td>\n",
       "      <td>-0.002121</td>\n",
       "      <td>-0.002263</td>\n",
       "    </tr>\n",
       "    <tr>\n",
       "      <th>DEWP</th>\n",
       "      <td>-0.119579</td>\n",
       "      <td>1.000000</td>\n",
       "      <td>0.538339</td>\n",
       "      <td>-0.775015</td>\n",
       "      <td>0.881182</td>\n",
       "      <td>-0.104289</td>\n",
       "      <td>-0.001670</td>\n",
       "      <td>-0.001466</td>\n",
       "    </tr>\n",
       "    <tr>\n",
       "      <th>HUMI</th>\n",
       "      <td>0.112014</td>\n",
       "      <td>0.538339</td>\n",
       "      <td>1.000000</td>\n",
       "      <td>-0.253226</td>\n",
       "      <td>0.092183</td>\n",
       "      <td>-0.132987</td>\n",
       "      <td>0.000059</td>\n",
       "      <td>0.000384</td>\n",
       "    </tr>\n",
       "    <tr>\n",
       "      <th>PRES</th>\n",
       "      <td>0.154958</td>\n",
       "      <td>-0.775015</td>\n",
       "      <td>-0.253226</td>\n",
       "      <td>1.000000</td>\n",
       "      <td>-0.787103</td>\n",
       "      <td>0.101755</td>\n",
       "      <td>-0.088319</td>\n",
       "      <td>-0.089149</td>\n",
       "    </tr>\n",
       "    <tr>\n",
       "      <th>TEMP</th>\n",
       "      <td>-0.210618</td>\n",
       "      <td>0.881182</td>\n",
       "      <td>0.092183</td>\n",
       "      <td>-0.787103</td>\n",
       "      <td>1.000000</td>\n",
       "      <td>-0.048314</td>\n",
       "      <td>-0.002307</td>\n",
       "      <td>-0.002224</td>\n",
       "    </tr>\n",
       "    <tr>\n",
       "      <th>Iws</th>\n",
       "      <td>-0.140736</td>\n",
       "      <td>-0.104289</td>\n",
       "      <td>-0.132987</td>\n",
       "      <td>0.101755</td>\n",
       "      <td>-0.048314</td>\n",
       "      <td>1.000000</td>\n",
       "      <td>-0.000689</td>\n",
       "      <td>-0.000620</td>\n",
       "    </tr>\n",
       "    <tr>\n",
       "      <th>precipitation</th>\n",
       "      <td>-0.002121</td>\n",
       "      <td>-0.001670</td>\n",
       "      <td>0.000059</td>\n",
       "      <td>-0.088319</td>\n",
       "      <td>-0.002307</td>\n",
       "      <td>-0.000689</td>\n",
       "      <td>1.000000</td>\n",
       "      <td>0.999997</td>\n",
       "    </tr>\n",
       "    <tr>\n",
       "      <th>Iprec</th>\n",
       "      <td>-0.002263</td>\n",
       "      <td>-0.001466</td>\n",
       "      <td>0.000384</td>\n",
       "      <td>-0.089149</td>\n",
       "      <td>-0.002224</td>\n",
       "      <td>-0.000620</td>\n",
       "      <td>0.999997</td>\n",
       "      <td>1.000000</td>\n",
       "    </tr>\n",
       "  </tbody>\n",
       "</table>\n",
       "</div>"
      ],
      "text/plain": [
       "               PM_US_Post      DEWP      HUMI      PRES      TEMP       Iws  \\\n",
       "PM_US_Post       1.000000 -0.119579  0.112014  0.154958 -0.210618 -0.140736   \n",
       "DEWP            -0.119579  1.000000  0.538339 -0.775015  0.881182 -0.104289   \n",
       "HUMI             0.112014  0.538339  1.000000 -0.253226  0.092183 -0.132987   \n",
       "PRES             0.154958 -0.775015 -0.253226  1.000000 -0.787103  0.101755   \n",
       "TEMP            -0.210618  0.881182  0.092183 -0.787103  1.000000 -0.048314   \n",
       "Iws             -0.140736 -0.104289 -0.132987  0.101755 -0.048314  1.000000   \n",
       "precipitation   -0.002121 -0.001670  0.000059 -0.088319 -0.002307 -0.000689   \n",
       "Iprec           -0.002263 -0.001466  0.000384 -0.089149 -0.002224 -0.000620   \n",
       "\n",
       "               precipitation     Iprec  \n",
       "PM_US_Post         -0.002121 -0.002263  \n",
       "DEWP               -0.001670 -0.001466  \n",
       "HUMI                0.000059  0.000384  \n",
       "PRES               -0.088319 -0.089149  \n",
       "TEMP               -0.002307 -0.002224  \n",
       "Iws                -0.000689 -0.000620  \n",
       "precipitation       1.000000  0.999997  \n",
       "Iprec               0.999997  1.000000  "
      ]
     },
     "execution_count": 47,
     "metadata": {},
     "output_type": "execute_result"
    }
   ],
   "source": [
    "pm2=pm[['PM_US_Post','DEWP','HUMI','PRES','TEMP','Iws','precipitation','Iprec']]\n",
    "pm2.corr()"
   ]
  },
  {
   "cell_type": "code",
   "execution_count": 64,
   "metadata": {},
   "outputs": [],
   "source": [
    "pm3=pm[['season','PM_US_Post','TEMP','cbwd','Iws','city']]\n",
    "pm4=pd.get_dummies(pm3,columns=['season','cbwd','city'])"
   ]
  },
  {
   "cell_type": "code",
   "execution_count": 65,
   "metadata": {},
   "outputs": [],
   "source": [
    "pm4[np.isnan(pm4)] = 0\n",
    "pm4[np.isinf(pm4)] = 0"
   ]
  },
  {
   "cell_type": "code",
   "execution_count": null,
   "metadata": {},
   "outputs": [],
   "source": []
  },
  {
   "cell_type": "code",
   "execution_count": 66,
   "metadata": {},
   "outputs": [],
   "source": [
    "train=pm4.sample(frac=0.7)"
   ]
  },
  {
   "cell_type": "code",
   "execution_count": 67,
   "metadata": {},
   "outputs": [],
   "source": [
    "test=pm4[~pm4.index.isin(train.index)]"
   ]
  },
  {
   "cell_type": "code",
   "execution_count": 68,
   "metadata": {},
   "outputs": [],
   "source": [
    "xtrain,ytrain=train.drop('PM_US_Post',axis=1),train['PM_US_Post']"
   ]
  },
  {
   "cell_type": "code",
   "execution_count": 69,
   "metadata": {},
   "outputs": [],
   "source": [
    "xtest,ytest=test.drop('PM_US_Post',axis=1),test['PM_US_Post']"
   ]
  },
  {
   "cell_type": "code",
   "execution_count": 70,
   "metadata": {},
   "outputs": [],
   "source": [
    "import statsmodels.api as sm"
   ]
  },
  {
   "cell_type": "code",
   "execution_count": 71,
   "metadata": {},
   "outputs": [],
   "source": [
    "xtrain=sm.add_constant(xtrain)"
   ]
  },
  {
   "cell_type": "code",
   "execution_count": 72,
   "metadata": {},
   "outputs": [],
   "source": [
    "xtest=sm.add_constant(xtest)"
   ]
  },
  {
   "cell_type": "code",
   "execution_count": 61,
   "metadata": {},
   "outputs": [],
   "source": [
    "results=sm.OLS(ytrain,xtrain).fit()"
   ]
  },
  {
   "cell_type": "code",
   "execution_count": 73,
   "metadata": {},
   "outputs": [
    {
     "name": "stdout",
     "output_type": "stream",
     "text": [
      "                            OLS Regression Results                            \n",
      "==============================================================================\n",
      "Dep. Variable:             PM_US_Post   R-squared:                       0.133\n",
      "Model:                            OLS   Adj. R-squared:                  0.133\n",
      "Method:                 Least Squares   F-statistic:                     1766.\n",
      "Date:                Sat, 26 Dec 2020   Prob (F-statistic):               0.00\n",
      "Time:                        03:06:48   Log-Likelihood:            -9.8476e+05\n",
      "No. Observations:              184030   AIC:                         1.970e+06\n",
      "Df Residuals:                  184013   BIC:                         1.970e+06\n",
      "Df Model:                          16                                         \n",
      "Covariance Type:            nonrobust                                         \n",
      "==================================================================================\n",
      "                     coef    std err          t      P>|t|      [0.025      0.975]\n",
      "----------------------------------------------------------------------------------\n",
      "const           3981.3641    124.820     31.897      0.000    3736.719    4226.009\n",
      "year              -2.3317      0.070    -33.360      0.000      -2.469      -2.195\n",
      "TEMP              -0.3926      0.019    -20.663      0.000      -0.430      -0.355\n",
      "Iws               -0.1442      0.003    -52.686      0.000      -0.150      -0.139\n",
      "season_Autumn     -7.0606     51.051     -0.138      0.890    -107.120      92.998\n",
      "season_Spring    -10.8522     51.050     -0.213      0.832    -110.910      89.205\n",
      "season_Summer    -18.4628     51.052     -0.362      0.718    -118.523      81.598\n",
      "season_Winter      4.4723     51.051      0.088      0.930     -95.586     104.530\n",
      "cbwd_NE            0.4332      1.777      0.244      0.807      -3.050       3.916\n",
      "cbwd_NW           -3.2314      1.776     -1.819      0.069      -6.713       0.250\n",
      "cbwd_SE           10.5808      1.772      5.971      0.000       7.107      14.054\n",
      "cbwd_SW            7.2575      1.772      4.095      0.000       3.784      10.731\n",
      "cbwd_cv           17.8700      1.778     10.049      0.000      14.385      21.355\n",
      "city_Beijing     815.7672     24.967     32.673      0.000     766.832     864.703\n",
      "city_Chengdu     796.1873     24.963     31.895      0.000     747.260     845.114\n",
      "city_Guangzhou   786.0604     24.957     31.497      0.000     737.145     834.976\n",
      "city_Shanghai    789.2734     24.965     31.616      0.000     740.343     838.204\n",
      "city_Shenyang    794.0758     24.976     31.794      0.000     745.124     843.027\n",
      "==============================================================================\n",
      "Omnibus:                   123114.628   Durbin-Watson:                   1.999\n",
      "Prob(Omnibus):                  0.000   Jarque-Bera (JB):          2833884.152\n",
      "Skew:                           2.896   Prob(JB):                         0.00\n",
      "Kurtosis:                      21.331   Cond. No.                     2.13e+18\n",
      "==============================================================================\n",
      "\n",
      "Warnings:\n",
      "[1] Standard Errors assume that the covariance matrix of the errors is correctly specified.\n",
      "[2] The smallest eigenvalue is 1.64e-25. This might indicate that there are\n",
      "strong multicollinearity problems or that the design matrix is singular.\n"
     ]
    }
   ],
   "source": [
    "print(results.summary())"
   ]
  },
  {
   "cell_type": "code",
   "execution_count": 74,
   "metadata": {},
   "outputs": [],
   "source": [
    "from sklearn.linear_model import Ridge,RidgeCV"
   ]
  },
  {
   "cell_type": "code",
   "execution_count": 75,
   "metadata": {},
   "outputs": [],
   "source": [
    "import numpy as np\n",
    "lambdas = np.logspace(-5,2,200)"
   ]
  },
  {
   "cell_type": "code",
   "execution_count": 76,
   "metadata": {},
   "outputs": [
    {
     "data": {
      "text/plain": [
       "RidgeCV(alphas=array([1.00000e-05, 1.08437e-05, ..., 9.22198e+01, 1.00000e+02]),\n",
       "    cv=10, fit_intercept=True, gcv_mode=None, normalize=True,\n",
       "    scoring='neg_mean_squared_error', store_cv_values=False)"
      ]
     },
     "execution_count": 76,
     "metadata": {},
     "output_type": "execute_result"
    }
   ],
   "source": [
    "ridge_cv = RidgeCV(alphas=lambdas,normalize=True,scoring=\"neg_mean_squared_error\",cv=10)\n",
    "ridge_cv.fit(xtrain,ytrain)"
   ]
  },
  {
   "cell_type": "code",
   "execution_count": 77,
   "metadata": {},
   "outputs": [
    {
     "data": {
      "text/plain": [
       "0.0013987131026472386"
      ]
     },
     "execution_count": 77,
     "metadata": {},
     "output_type": "execute_result"
    }
   ],
   "source": [
    "ridge_cv.alpha_"
   ]
  },
  {
   "cell_type": "code",
   "execution_count": 78,
   "metadata": {},
   "outputs": [],
   "source": [
    "model=Ridge(alpha=ridge_cv.alpha_,normalize=False)\n",
    "model.fit(xtrain,ytrain)\n",
    "ridge_pre = model.predict(xtest)"
   ]
  },
  {
   "cell_type": "code",
   "execution_count": 79,
   "metadata": {},
   "outputs": [
    {
     "data": {
      "text/plain": [
       "3202.331347613505"
      ]
     },
     "execution_count": 79,
     "metadata": {},
     "output_type": "execute_result"
    }
   ],
   "source": [
    "from sklearn.metrics import mean_squared_error,r2_score\n",
    "mean_squared_error(ytest,ridge_pre)"
   ]
  },
  {
   "cell_type": "code",
   "execution_count": 80,
   "metadata": {},
   "outputs": [
    {
     "data": {
      "text/plain": [
       "0.12780674163228412"
      ]
     },
     "execution_count": 80,
     "metadata": {},
     "output_type": "execute_result"
    }
   ],
   "source": [
    "r2_score(ytest,ridge_pre)"
   ]
  }
 ],
 "metadata": {
  "kernelspec": {
   "display_name": "Python 3",
   "language": "python",
   "name": "python3"
  },
  "language_info": {
   "codemirror_mode": {
    "name": "ipython",
    "version": 3
   },
   "file_extension": ".py",
   "mimetype": "text/x-python",
   "name": "python",
   "nbconvert_exporter": "python",
   "pygments_lexer": "ipython3",
   "version": "3.7.1"
  }
 },
 "nbformat": 4,
 "nbformat_minor": 2
}
